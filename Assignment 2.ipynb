{
 "cells": [
  {
   "cell_type": "markdown",
   "metadata": {},
   "source": [
    "# Machine Learning Assignment 2017\n",
    "_by Nathalie von Huth_\n",
    "\n",
    "## Introduction\n",
    "\n",
    "The goal of this assignment is to predict football matches in the English Premier League 2017 based on data from the different teams back to 2003. When the data had been processed and transformed, the model with the highest performance was picked carefully from cross validation scores. After running several experiments on different models, the best performed model turned out to be the Gaussian Naive Bayes classifier. The accuracy of the model was 0.648."
   ]
  },
  {
   "cell_type": "markdown",
   "metadata": {},
   "source": [
    "### Import Modules"
   ]
  },
  {
   "cell_type": "code",
   "execution_count": 1,
   "metadata": {
    "collapsed": false,
    "scrolled": true
   },
   "outputs": [],
   "source": [
    "%matplotlib inline\n",
    "from IPython.display import display\n",
    "import itertools\n",
    "import pandas as pd\n",
    "import sklearn as sk\n",
    "import matplotlib.pyplot as plt\n",
    "import numpy as np\n",
    "import scipy as sp\n",
    "\n",
    "import warnings\n",
    "warnings.filterwarnings('ignore')\n",
    "\n",
    "from sklearn import preprocessing\n",
    "from collections import defaultdict\n",
    "from matplotlib import cm as cm\n",
    "from sklearn import metrics\n",
    "\n",
    "from sklearn.preprocessing import MinMaxScaler, label_binarize\n",
    "from sklearn.feature_selection import RFE, f_regression\n",
    "from sklearn.linear_model import LogisticRegression, RandomizedLasso\n",
    "from sklearn.ensemble import ExtraTreesClassifier, AdaBoostClassifier\n",
    "from sklearn.model_selection import cross_val_predict, KFold, cross_val_score, train_test_split\n",
    "from sklearn.svm import SVC\n",
    "from sklearn.naive_bayes import GaussianNB\n",
    "from sklearn.neural_network import MLPClassifier\n",
    "from sklearn.neighbors import KNeighborsClassifier"
   ]
  },
  {
   "cell_type": "markdown",
   "metadata": {},
   "source": [
    "## Data Processing\n",
    "First, we need to load all the datasets that will be used.\n",
    "\n",
    "In order to give more detail in terms of features, data from [FootStats][1] and [PremierLeague][2] was downloaded. This included data about each team:\n",
    "* Attack\n",
    "* Defence\n",
    "* Variation (between attack and defence)\n",
    "* Player points (voted by users on [PremierLeague][2])\n",
    "* For (Home/Away)\n",
    "* Against (Home/Away)\n",
    "\n",
    "[1]:<http://footstats.co.uk> \"FootStats\"\n",
    "[2]:<http://premierleague.com> \"PremierLeague\""
   ]
  },
  {
   "cell_type": "code",
   "execution_count": 2,
   "metadata": {
    "collapsed": false
   },
   "outputs": [],
   "source": [
    "# Given datasets\n",
    "data_train = pd.read_csv('data/epl-training.csv', index_col=0, parse_dates=True)\n",
    "data_validate = pd.read_csv('data/epl-bookies.csv')\n",
    "data_test = pd.read_csv('data/epl-test.csv')\n",
    "\n",
    "# Additional datasets\n",
    "attack = pd.read_csv('data/attack.csv') # Includes number of attacks, defences and variation of each team\n",
    "playerpoints = pd.read_csv('data/player-points.csv') # Includes points for each player of a team"
   ]
  },
  {
   "cell_type": "markdown",
   "metadata": {},
   "source": [
    "In order to get the correct format throughout both the training data, test data and the validation data, the `data_test` was appended to `data_train`. This will make the data consistent after transforming the data."
   ]
  },
  {
   "cell_type": "code",
   "execution_count": 3,
   "metadata": {
    "collapsed": false
   },
   "outputs": [],
   "source": [
    "# Make the ID its own column\n",
    "data_train.reset_index(inplace=True)\n",
    "\n",
    "# I append data_test to data_train in order to do all transformations on the data_test also\n",
    "data_train = data_train.append(data_test)"
   ]
  },
  {
   "cell_type": "markdown",
   "metadata": {},
   "source": [
    "The additional datasets were then divided into two tables: home and away. The division is made such that when merging with the `data_train` table, it would show data for the home and away team playing on that day."
   ]
  },
  {
   "cell_type": "code",
   "execution_count": 4,
   "metadata": {
    "collapsed": false
   },
   "outputs": [
    {
     "data": {
      "text/html": [
       "<div>\n",
       "<table border=\"1\" class=\"dataframe\">\n",
       "  <thead>\n",
       "    <tr style=\"text-align: right;\">\n",
       "      <th></th>\n",
       "      <th>HomeTeam</th>\n",
       "      <th>AwayTeam</th>\n",
       "      <th>Date</th>\n",
       "      <th>HomeAttack</th>\n",
       "      <th>AwayAttack</th>\n",
       "    </tr>\n",
       "  </thead>\n",
       "  <tbody>\n",
       "    <tr>\n",
       "      <th>0</th>\n",
       "      <td>Arsenal</td>\n",
       "      <td>Everton</td>\n",
       "      <td>2003-08-16</td>\n",
       "      <td>0.86</td>\n",
       "      <td>0.46</td>\n",
       "    </tr>\n",
       "    <tr>\n",
       "      <th>1</th>\n",
       "      <td>Leicester</td>\n",
       "      <td>Southampton</td>\n",
       "      <td>2003-08-16</td>\n",
       "      <td>0.56</td>\n",
       "      <td>0.42</td>\n",
       "    </tr>\n",
       "    <tr>\n",
       "      <th>2</th>\n",
       "      <td>Liverpool</td>\n",
       "      <td>Chelsea</td>\n",
       "      <td>2003-08-17</td>\n",
       "      <td>0.86</td>\n",
       "      <td>0.82</td>\n",
       "    </tr>\n",
       "    <tr>\n",
       "      <th>3</th>\n",
       "      <td>Chelsea</td>\n",
       "      <td>Leicester</td>\n",
       "      <td>2003-08-23</td>\n",
       "      <td>0.82</td>\n",
       "      <td>0.56</td>\n",
       "    </tr>\n",
       "    <tr>\n",
       "      <th>4</th>\n",
       "      <td>Middlesbrough</td>\n",
       "      <td>Arsenal</td>\n",
       "      <td>2003-08-24</td>\n",
       "      <td>-0.01</td>\n",
       "      <td>0.86</td>\n",
       "    </tr>\n",
       "    <tr>\n",
       "      <th>5</th>\n",
       "      <td>Leicester</td>\n",
       "      <td>Middlesbrough</td>\n",
       "      <td>2003-08-26</td>\n",
       "      <td>0.56</td>\n",
       "      <td>-0.01</td>\n",
       "    </tr>\n",
       "    <tr>\n",
       "      <th>6</th>\n",
       "      <td>Liverpool</td>\n",
       "      <td>Tottenham</td>\n",
       "      <td>2003-08-27</td>\n",
       "      <td>0.86</td>\n",
       "      <td>0.63</td>\n",
       "    </tr>\n",
       "    <tr>\n",
       "      <th>7</th>\n",
       "      <td>Everton</td>\n",
       "      <td>Liverpool</td>\n",
       "      <td>2003-08-30</td>\n",
       "      <td>0.46</td>\n",
       "      <td>0.86</td>\n",
       "    </tr>\n",
       "  </tbody>\n",
       "</table>\n",
       "</div>"
      ],
      "text/plain": [
       "        HomeTeam       AwayTeam       Date  HomeAttack  AwayAttack\n",
       "0        Arsenal        Everton 2003-08-16        0.86        0.46\n",
       "1      Leicester    Southampton 2003-08-16        0.56        0.42\n",
       "2      Liverpool        Chelsea 2003-08-17        0.86        0.82\n",
       "3        Chelsea      Leicester 2003-08-23        0.82        0.56\n",
       "4  Middlesbrough        Arsenal 2003-08-24       -0.01        0.86\n",
       "5      Leicester  Middlesbrough 2003-08-26        0.56       -0.01\n",
       "6      Liverpool      Tottenham 2003-08-27        0.86        0.63\n",
       "7        Everton      Liverpool 2003-08-30        0.46        0.86"
      ]
     },
     "metadata": {},
     "output_type": "display_data"
    }
   ],
   "source": [
    "# Transform the Date into pandas date format\n",
    "data_train['Date'] = pd.to_datetime(data_train['Date'],format='%d/%m/%Y')\n",
    "\n",
    "playerpoints = playerpoints.replace('Spurs', 'Tottenham')\n",
    "playerpoints = playerpoints.replace('Man Utd', 'Man United')\n",
    "playerpoints = playerpoints.drop(['Worth', 'Player'], 1)\n",
    "playerpoints = playerpoints.groupby('Team').mean() # takes mean points for all players within a team\n",
    "playerpoints = playerpoints.reset_index()\n",
    "\n",
    "# Merge attack, teampoints and playerpoints\n",
    "team_data = pd.merge(attack, playerpoints, on='Team')\n",
    "\n",
    "# Import home data\n",
    "home = pd.read_csv('data/home.csv')\n",
    "home = home.merge(team_data, on='Team')\n",
    "home.rename(columns = lambda x: 'Home' + x, inplace=True)\n",
    "\n",
    "# Import away data\n",
    "away = pd.read_csv('data/away.csv')\n",
    "away = away.merge(team_data, on='Team')\n",
    "away.rename(columns = lambda x: 'Away' + x, inplace=True)\n",
    "\n",
    "# Merge data_train with home and away\n",
    "data_train = data_train.merge(home, on='HomeTeam')\n",
    "data_train = data_train.merge(away, on='AwayTeam')\n",
    "data_train = data_train.sort_values('Date')\n",
    "data_train.reset_index(drop = True, inplace=True)\n",
    "\n",
    "display(data_train[['HomeTeam', 'AwayTeam', 'Date', 'HomeAttack', 'AwayAttack']].head(8))"
   ]
  },
  {
   "cell_type": "markdown",
   "metadata": {},
   "source": [
    "I show only some columns to present the idea of the home and away columns.\n",
    "\n",
    "Following, the `Date` feature in our dataset doesn't give the model itself a lot of necessary information. Therefore, dividing it into features such as `Year, Month, Day` and even `DayOfWeek` might give new insights. `DayOfWeek` shows a range of numbers where Monday = 0 ... Sunday=6."
   ]
  },
  {
   "cell_type": "code",
   "execution_count": 5,
   "metadata": {
    "collapsed": false
   },
   "outputs": [
    {
     "data": {
      "text/html": [
       "<div>\n",
       "<table border=\"1\" class=\"dataframe\">\n",
       "  <thead>\n",
       "    <tr style=\"text-align: right;\">\n",
       "      <th></th>\n",
       "      <th>HomeTeam</th>\n",
       "      <th>AwayTeam</th>\n",
       "      <th>Year</th>\n",
       "      <th>Month</th>\n",
       "      <th>Day</th>\n",
       "      <th>DayOfWeek</th>\n",
       "    </tr>\n",
       "  </thead>\n",
       "  <tbody>\n",
       "    <tr>\n",
       "      <th>0</th>\n",
       "      <td>Arsenal</td>\n",
       "      <td>Everton</td>\n",
       "      <td>2003</td>\n",
       "      <td>8</td>\n",
       "      <td>16</td>\n",
       "      <td>5</td>\n",
       "    </tr>\n",
       "    <tr>\n",
       "      <th>1</th>\n",
       "      <td>Leicester</td>\n",
       "      <td>Southampton</td>\n",
       "      <td>2003</td>\n",
       "      <td>8</td>\n",
       "      <td>16</td>\n",
       "      <td>5</td>\n",
       "    </tr>\n",
       "    <tr>\n",
       "      <th>2</th>\n",
       "      <td>Liverpool</td>\n",
       "      <td>Chelsea</td>\n",
       "      <td>2003</td>\n",
       "      <td>8</td>\n",
       "      <td>17</td>\n",
       "      <td>6</td>\n",
       "    </tr>\n",
       "    <tr>\n",
       "      <th>3</th>\n",
       "      <td>Chelsea</td>\n",
       "      <td>Leicester</td>\n",
       "      <td>2003</td>\n",
       "      <td>8</td>\n",
       "      <td>23</td>\n",
       "      <td>5</td>\n",
       "    </tr>\n",
       "    <tr>\n",
       "      <th>4</th>\n",
       "      <td>Middlesbrough</td>\n",
       "      <td>Arsenal</td>\n",
       "      <td>2003</td>\n",
       "      <td>8</td>\n",
       "      <td>24</td>\n",
       "      <td>6</td>\n",
       "    </tr>\n",
       "    <tr>\n",
       "      <th>5</th>\n",
       "      <td>Leicester</td>\n",
       "      <td>Middlesbrough</td>\n",
       "      <td>2003</td>\n",
       "      <td>8</td>\n",
       "      <td>26</td>\n",
       "      <td>1</td>\n",
       "    </tr>\n",
       "    <tr>\n",
       "      <th>6</th>\n",
       "      <td>Liverpool</td>\n",
       "      <td>Tottenham</td>\n",
       "      <td>2003</td>\n",
       "      <td>8</td>\n",
       "      <td>27</td>\n",
       "      <td>2</td>\n",
       "    </tr>\n",
       "    <tr>\n",
       "      <th>7</th>\n",
       "      <td>Everton</td>\n",
       "      <td>Liverpool</td>\n",
       "      <td>2003</td>\n",
       "      <td>8</td>\n",
       "      <td>30</td>\n",
       "      <td>5</td>\n",
       "    </tr>\n",
       "  </tbody>\n",
       "</table>\n",
       "</div>"
      ],
      "text/plain": [
       "        HomeTeam       AwayTeam  Year  Month  Day  DayOfWeek\n",
       "0        Arsenal        Everton  2003      8   16          5\n",
       "1      Leicester    Southampton  2003      8   16          5\n",
       "2      Liverpool        Chelsea  2003      8   17          6\n",
       "3        Chelsea      Leicester  2003      8   23          5\n",
       "4  Middlesbrough        Arsenal  2003      8   24          6\n",
       "5      Leicester  Middlesbrough  2003      8   26          1\n",
       "6      Liverpool      Tottenham  2003      8   27          2\n",
       "7        Everton      Liverpool  2003      8   30          5"
      ]
     },
     "metadata": {},
     "output_type": "display_data"
    }
   ],
   "source": [
    "# Extract features of Date\n",
    "data_train['Year'] = pd.DatetimeIndex(data_train['Date']).year\n",
    "data_train['Month'] = pd.DatetimeIndex(data_train['Date']).month\n",
    "data_train['DayOfWeek'] = pd.DatetimeIndex(data_train['Date']).dayofweek\n",
    "data_train['Day'] = pd.DatetimeIndex(data_train['Date']).day\n",
    "\n",
    "# Remove the Date column\n",
    "data_train = data_train.drop(['Date'], axis=1) \n",
    "display(data_train[['HomeTeam', 'AwayTeam', 'Year', 'Month', 'Day', 'DayOfWeek']].head(n=8))"
   ]
  },
  {
   "cell_type": "markdown",
   "metadata": {},
   "source": [
    "# Data Transformation and Exploration\n",
    "\n",
    "To be able to understand the data, we need to transform and explore it. The transformation is needed in order to get the right format for the models to work with. The exploration seeks meaning of the features. This includes seeing correlations between features and discarding features without any contribution to the target values.\n",
    "\n",
    "#### Data Transformation: ####\n",
    "1. Labeling categorical values to numeric value\n",
    "2. Creating a validation set based on average team performace\n",
    "3. Standardizing the values\n",
    "4. Split into training set X and target values y\n",
    "\n",
    "#### Data Exploration: ####\n",
    "1. Pearson's r against target values y\n",
    "2. Correlation Matrix\n",
    "3. Feature extraction\n",
    "    * Feature Importance\n",
    "    * Recursive Feature Extraction\n",
    "    * Stability\n",
    "\n",
    "\n",
    "## Data Transformation\n",
    "  (1) First, some of the data features includes categories containing strings. This is converted to numeric values using the LabelEncoder in scikit learn. The encodings are stored in a dictionary in case wanting to encode again at a later point or reversing the encoding."
   ]
  },
  {
   "cell_type": "code",
   "execution_count": 6,
   "metadata": {
    "collapsed": false
   },
   "outputs": [
    {
     "data": {
      "text/html": [
       "<div>\n",
       "<table border=\"1\" class=\"dataframe\">\n",
       "  <thead>\n",
       "    <tr style=\"text-align: right;\">\n",
       "      <th></th>\n",
       "      <th>HomeTeam</th>\n",
       "      <th>AwayTeam</th>\n",
       "      <th>Referee</th>\n",
       "      <th>FTR</th>\n",
       "    </tr>\n",
       "  </thead>\n",
       "  <tbody>\n",
       "    <tr>\n",
       "      <th>0</th>\n",
       "      <td>0</td>\n",
       "      <td>5</td>\n",
       "      <td>22</td>\n",
       "      <td>3</td>\n",
       "    </tr>\n",
       "    <tr>\n",
       "      <th>1</th>\n",
       "      <td>7</td>\n",
       "      <td>12</td>\n",
       "      <td>26</td>\n",
       "      <td>2</td>\n",
       "    </tr>\n",
       "    <tr>\n",
       "      <th>2</th>\n",
       "      <td>8</td>\n",
       "      <td>3</td>\n",
       "      <td>39</td>\n",
       "      <td>1</td>\n",
       "    </tr>\n",
       "    <tr>\n",
       "      <th>3</th>\n",
       "      <td>3</td>\n",
       "      <td>7</td>\n",
       "      <td>37</td>\n",
       "      <td>3</td>\n",
       "    </tr>\n",
       "    <tr>\n",
       "      <th>4</th>\n",
       "      <td>11</td>\n",
       "      <td>0</td>\n",
       "      <td>8</td>\n",
       "      <td>1</td>\n",
       "    </tr>\n",
       "    <tr>\n",
       "      <th>5</th>\n",
       "      <td>7</td>\n",
       "      <td>11</td>\n",
       "      <td>9</td>\n",
       "      <td>2</td>\n",
       "    </tr>\n",
       "    <tr>\n",
       "      <th>6</th>\n",
       "      <td>8</td>\n",
       "      <td>16</td>\n",
       "      <td>42</td>\n",
       "      <td>2</td>\n",
       "    </tr>\n",
       "    <tr>\n",
       "      <th>7</th>\n",
       "      <td>5</td>\n",
       "      <td>8</td>\n",
       "      <td>26</td>\n",
       "      <td>1</td>\n",
       "    </tr>\n",
       "  </tbody>\n",
       "</table>\n",
       "</div>"
      ],
      "text/plain": [
       "   HomeTeam  AwayTeam  Referee  FTR\n",
       "0         0         5       22    3\n",
       "1         7        12       26    2\n",
       "2         8         3       39    1\n",
       "3         3         7       37    3\n",
       "4        11         0        8    1\n",
       "5         7        11        9    2\n",
       "6         8        16       42    2\n",
       "7         5         8       26    1"
      ]
     },
     "metadata": {},
     "output_type": "display_data"
    }
   ],
   "source": [
    "# Create a list of those values who are categories. These are the ones we want to encode.\n",
    "categories = np.array(data_train.select_dtypes(include=['object']).columns)\n",
    "categories = np.append(categories, [\"ID\"])\n",
    "\n",
    "# Create a dictionary of the encodings\n",
    "d = defaultdict(preprocessing.LabelEncoder)\n",
    "\n",
    "# Encode  categorical values\n",
    "data_train[categories] = data_train[categories].apply(lambda x: d[x.name].fit_transform(x))\n",
    "display(data_train[['HomeTeam', 'AwayTeam', 'Referee', 'FTR']].head(n=8))"
   ]
  },
  {
   "cell_type": "markdown",
   "metadata": {},
   "source": [
    "We can see in the table now that have numeric values, e.g. Arsenal = 0, Everton = 5 etc.\n",
    "\n",
    "  (2) At this point, a validation set is created. The reason of doing it here is that most of the processing of the data is ready, hence the validation set will have the same label encoding and the same form of Date. The validation set is a set of prior probabilities that will be used when predicting the accuracy of the models. This is also important to calculate sine the test set only includes `HomeTeam, AwayTeam` and `Date`. Each column will now depend on the team's average performance. So, if Arsenal (home) is playing against Everton (away) then the `FTHG` will depend on the average outcome of all of Arsenal's matches in the past, while `FTAG` depends on Everton's performance. If a feature is common for both teams (e.g. Referee) then it will calculate the mode of the most used Referee when HomeTeam is playing."
   ]
  },
  {
   "cell_type": "code",
   "execution_count": 7,
   "metadata": {
    "collapsed": false,
    "scrolled": true
   },
   "outputs": [
    {
     "data": {
      "text/html": [
       "<div>\n",
       "<table border=\"1\" class=\"dataframe\">\n",
       "  <thead>\n",
       "    <tr style=\"text-align: right;\">\n",
       "      <th></th>\n",
       "      <th>HomeTeam</th>\n",
       "      <th>AwayTeam</th>\n",
       "      <th>FTHG</th>\n",
       "      <th>FTAG</th>\n",
       "      <th>Referee</th>\n",
       "    </tr>\n",
       "  </thead>\n",
       "  <tbody>\n",
       "    <tr>\n",
       "      <th>0</th>\n",
       "      <td>0</td>\n",
       "      <td>5</td>\n",
       "      <td>1.875000</td>\n",
       "      <td>1.039474</td>\n",
       "      <td>12</td>\n",
       "    </tr>\n",
       "    <tr>\n",
       "      <th>1</th>\n",
       "      <td>7</td>\n",
       "      <td>12</td>\n",
       "      <td>1.355556</td>\n",
       "      <td>1.000000</td>\n",
       "      <td>20</td>\n",
       "    </tr>\n",
       "    <tr>\n",
       "      <th>2</th>\n",
       "      <td>8</td>\n",
       "      <td>3</td>\n",
       "      <td>1.780000</td>\n",
       "      <td>1.592105</td>\n",
       "      <td>30</td>\n",
       "    </tr>\n",
       "    <tr>\n",
       "      <th>3</th>\n",
       "      <td>3</td>\n",
       "      <td>7</td>\n",
       "      <td>1.881579</td>\n",
       "      <td>1.333333</td>\n",
       "      <td>21</td>\n",
       "    </tr>\n",
       "    <tr>\n",
       "      <th>4</th>\n",
       "      <td>11</td>\n",
       "      <td>0</td>\n",
       "      <td>1.396825</td>\n",
       "      <td>1.546053</td>\n",
       "      <td>22</td>\n",
       "    </tr>\n",
       "    <tr>\n",
       "      <th>5</th>\n",
       "      <td>7</td>\n",
       "      <td>11</td>\n",
       "      <td>1.355556</td>\n",
       "      <td>0.698413</td>\n",
       "      <td>20</td>\n",
       "    </tr>\n",
       "    <tr>\n",
       "      <th>6</th>\n",
       "      <td>8</td>\n",
       "      <td>16</td>\n",
       "      <td>1.780000</td>\n",
       "      <td>1.236842</td>\n",
       "      <td>30</td>\n",
       "    </tr>\n",
       "    <tr>\n",
       "      <th>7</th>\n",
       "      <td>5</td>\n",
       "      <td>8</td>\n",
       "      <td>1.453947</td>\n",
       "      <td>1.222222</td>\n",
       "      <td>2</td>\n",
       "    </tr>\n",
       "    <tr>\n",
       "      <th>8</th>\n",
       "      <td>9</td>\n",
       "      <td>0</td>\n",
       "      <td>1.796053</td>\n",
       "      <td>1.546053</td>\n",
       "      <td>12</td>\n",
       "    </tr>\n",
       "    <tr>\n",
       "      <th>9</th>\n",
       "      <td>12</td>\n",
       "      <td>10</td>\n",
       "      <td>1.469136</td>\n",
       "      <td>1.450331</td>\n",
       "      <td>19</td>\n",
       "    </tr>\n",
       "  </tbody>\n",
       "</table>\n",
       "</div>"
      ],
      "text/plain": [
       "   HomeTeam  AwayTeam      FTHG      FTAG  Referee\n",
       "0         0         5  1.875000  1.039474       12\n",
       "1         7        12  1.355556  1.000000       20\n",
       "2         8         3  1.780000  1.592105       30\n",
       "3         3         7  1.881579  1.333333       21\n",
       "4        11         0  1.396825  1.546053       22\n",
       "5         7        11  1.355556  0.698413       20\n",
       "6         8        16  1.780000  1.236842       30\n",
       "7         5         8  1.453947  1.222222        2\n",
       "8         9         0  1.796053  1.546053       12\n",
       "9        12        10  1.469136  1.450331       19"
      ]
     },
     "metadata": {},
     "output_type": "display_data"
    }
   ],
   "source": [
    "validation = data_train.copy()\n",
    "\n",
    "home_features = ['FTHG','HTHG','HS','HST','HF','HC','HY','HR']\n",
    "away_features = ['FTAG','HTAG','AS','AST','AF','AC','AY','AR']\n",
    "common_features = ['HTR', 'Referee', 'FTR']\n",
    "\n",
    "def make_mean(dataset, features, name):\n",
    "    result = dataset.copy()\n",
    "    for team in range(0, len(validation.AwayTeam.unique())):\n",
    "        for feature in features:\n",
    "            mean = result.groupby([name]).get_group(team)[feature].mean()\n",
    "            result[feature][result[name] == team] = mean\n",
    "    return result\n",
    "\n",
    "def make_mode(dataset, features, name):\n",
    "    result = dataset.copy()\n",
    "    for team in range(0, len(validation.AwayTeam.unique())):\n",
    "        for feature in features:\n",
    "            mode = result.groupby([name]).get_group(team)[feature].mode()[0]\n",
    "            result[feature][result[name] == team] = mode\n",
    "    return result\n",
    "            \n",
    "validation = make_mean(validation, home_features, 'HomeTeam')\n",
    "validation = make_mean(validation, away_features, 'AwayTeam')\n",
    "validation = make_mode(validation, common_features, 'HomeTeam')\n",
    "\n",
    "display(validation[['HomeTeam', 'AwayTeam', 'FTHG', 'FTAG', 'Referee']].head(10))"
   ]
  },
  {
   "cell_type": "markdown",
   "metadata": {},
   "source": [
    "Now that we have the validation set ready, we can split the `data_test` from `data_train` by getting all matches in 2017. We can also split the validation set into `data_test` and `validation`."
   ]
  },
  {
   "cell_type": "code",
   "execution_count": 8,
   "metadata": {
    "collapsed": false
   },
   "outputs": [],
   "source": [
    "data_train = data_train.loc[data_train[\"Year\"] != 2017]\n",
    "data_test = validation.loc[validation[\"Year\"] == 2017]\n",
    "validation = validation.loc[validation[\"Year\"] != 2017]"
   ]
  },
  {
   "cell_type": "markdown",
   "metadata": {},
   "source": [
    "(3) Next, we need to standardize all numeric values. Standardization will shift the distribution to have a mean of zero and standard deviation of one. This makes it easier for the machine learning algorithms to work on later (such as in the Gaussian process)."
   ]
  },
  {
   "cell_type": "code",
   "execution_count": 9,
   "metadata": {
    "collapsed": false
   },
   "outputs": [],
   "source": [
    "# Standardizing the variables that are not categories\n",
    "non_categories = data_train.columns.difference(categories)\n",
    "scaler = preprocessing.StandardScaler()\n",
    "\n",
    "data_train.loc[:, non_categories] = scaler.fit_transform(data_train[non_categories])\n",
    "data_test.loc[:, non_categories] = scaler.fit_transform(data_test[non_categories])\n",
    "validation.loc[:, non_categories] = scaler.fit_transform(validation[non_categories])"
   ]
  },
  {
   "cell_type": "markdown",
   "metadata": {},
   "source": [
    "(4) Last in Data Transformation we need to have a training set (X) and a target vector (y). "
   ]
  },
  {
   "cell_type": "code",
   "execution_count": 10,
   "metadata": {
    "collapsed": false
   },
   "outputs": [],
   "source": [
    "# Data set X and target y\n",
    "y = data_train['FTR']\n",
    "X = data_train.drop(['FTR'], axis=1)\n",
    "\n",
    "# Drop the FTR from test and validation set\n",
    "data_test = data_test.drop(['FTR'], axis=1)\n",
    "validation = validation.drop(['FTR'], axis=1)"
   ]
  },
  {
   "cell_type": "markdown",
   "metadata": {},
   "source": [
    "## Data Exploration\n",
    "\n",
    "(1) To get an idea of which data is relevant/irrelevant, Pearson's _r_ is calculated to see the correlation between each of the features from `data_train` compared to the Full Time Result (FTR). I am making a histogram that shows how strong negatively/positive correlation has with each feature is correlating with FTR. If _r_ is close to zero it is not correlating to FTR, but if it is close to 1 or -1 it is correlating. "
   ]
  },
  {
   "cell_type": "code",
   "execution_count": 11,
   "metadata": {
    "collapsed": false
   },
   "outputs": [
    {
     "data": {
      "text/plain": [
       "<matplotlib.axes._subplots.AxesSubplot at 0x10e65b290>"
      ]
     },
     "execution_count": 11,
     "metadata": {},
     "output_type": "execute_result"
    },
    {
     "data": {
      "image/png": "[encoded data removed]",
      "text/plain": [
       "<matplotlib.figure.Figure at 0x1098745d0>"
      ]
     },
     "metadata": {},
     "output_type": "display_data"
    }
   ],
   "source": [
    "# Here we create an array of correlations between each feature in X, and y (the FTR data).\n",
    "pears_r = []\n",
    "for columns in X:\n",
    "    inData = sp.stats.pearsonr(X[columns], y)\n",
    "    pears_r.append(inData[0])\n",
    "\n",
    "# Draw a bar chart to visualise the correlations\n",
    "pears_df = pd.Series(pears_r, index = X.columns)\n",
    "pears_df.plot.bar(figsize=(20,5), \n",
    "                  yticks=np.arange(-1,1, 0.2), \n",
    "                  title = \"Pearson's r correlations to Full Time Reults (FTR)\")"
   ]
  },
  {
   "cell_type": "markdown",
   "metadata": {},
   "source": [
    "(2) Another way to visualise the correlations is feature by feature. This can be shown in a correlation matrix. To compare the features against FTR, we can look at the FTR column and see the colours of each corresponding feature. This reflects what we see in the Pearson's _r_ table, like the Referee being very low showing a green colour in the correlation matrix."
   ]
  },
  {
   "cell_type": "code",
   "execution_count": 12,
   "metadata": {
    "collapsed": false
   },
   "outputs": [
    {
     "data": {
      "image/png": "[encoded data removed]",
      "text/plain": [
       "<matplotlib.figure.Figure at 0x10edd78d0>"
      ]
     },
     "metadata": {},
     "output_type": "display_data"
    }
   ],
   "source": [
    "correlations = data_train.corr()\n",
    "\n",
    "fig = plt.figure(figsize=(20,10))\n",
    "ax = fig.add_subplot(111)\n",
    "cmap = cm.get_cmap('jet', 30)\n",
    "cax = ax.matshow(correlations, interpolation=\"nearest\", cmap=cmap, vmin=-1, vmax=1)\n",
    "ax.set_xticklabels(ax.xaxis.get_majorticklabels(), rotation=90)\n",
    "ax.grid(False)\n",
    "\n",
    "fig.colorbar(cax)\n",
    "ticks = np.arange(len(data_train.columns))\n",
    "ax.set_xticks(ticks)\n",
    "ax.set_yticks(ticks)\n",
    "ax.set_xticklabels(data_train.columns)\n",
    "ax.set_yticklabels(data_train.columns)\n",
    "plt.show()"
   ]
  },
  {
   "cell_type": "markdown",
   "metadata": {},
   "source": [
    "(3) Even if both Pearson's _r_ and the correlation matrix gives us an idea of how much a feature is related to the target value, the feature might have an indirect contribution. To test recursively whether some features have a relationship with FTR we can perform feature selection to get rankings of the importance of the features. The main reasons of doing feature selection are as follows:\n",
    "\n",
    "1. **Reduces Overfitting:** Less redundant data means less opportunity to make decisions based on noise.\n",
    "2. **Improves Accuracy:** Less misleading data means modeling accuracy improves.\n",
    "3. **Reduces Training Time:** Less data means that algorithms train faster.\n",
    "\n",
    "The models that are being trained for feature selection is:\n",
    "- Stability (Randomized Lasso)\n",
    "- RFE (Recursive Feature Extraction)\n",
    "- Feature Importance (Extra Trees Classifier)"
   ]
  },
  {
   "cell_type": "code",
   "execution_count": 13,
   "metadata": {
    "collapsed": false,
    "scrolled": false
   },
   "outputs": [
    {
     "data": {
      "text/html": [
       "<div>\n",
       "<table border=\"1\" class=\"dataframe\">\n",
       "  <thead>\n",
       "    <tr style=\"text-align: right;\">\n",
       "      <th></th>\n",
       "      <th>Feature Importance</th>\n",
       "      <th>RFE</th>\n",
       "      <th>Stability</th>\n",
       "    </tr>\n",
       "  </thead>\n",
       "  <tbody>\n",
       "    <tr>\n",
       "      <th>HTAG</th>\n",
       "      <td>0.15</td>\n",
       "      <td>1.00</td>\n",
       "      <td>0.06</td>\n",
       "    </tr>\n",
       "    <tr>\n",
       "      <th>FTHG</th>\n",
       "      <td>0.94</td>\n",
       "      <td>1.00</td>\n",
       "      <td>1.00</td>\n",
       "    </tr>\n",
       "    <tr>\n",
       "      <th>HTR</th>\n",
       "      <td>0.77</td>\n",
       "      <td>1.00</td>\n",
       "      <td>1.00</td>\n",
       "    </tr>\n",
       "    <tr>\n",
       "      <th>HTHG</th>\n",
       "      <td>0.24</td>\n",
       "      <td>1.00</td>\n",
       "      <td>0.00</td>\n",
       "    </tr>\n",
       "    <tr>\n",
       "      <th>FTAG</th>\n",
       "      <td>1.00</td>\n",
       "      <td>1.00</td>\n",
       "      <td>1.00</td>\n",
       "    </tr>\n",
       "    <tr>\n",
       "      <th>HST</th>\n",
       "      <td>0.18</td>\n",
       "      <td>0.97</td>\n",
       "      <td>0.08</td>\n",
       "    </tr>\n",
       "    <tr>\n",
       "      <th>AwayPts</th>\n",
       "      <td>0.04</td>\n",
       "      <td>0.94</td>\n",
       "      <td>0.01</td>\n",
       "    </tr>\n",
       "    <tr>\n",
       "      <th>...</th>\n",
       "      <td>...</td>\n",
       "      <td>...</td>\n",
       "      <td>...</td>\n",
       "    </tr>\n",
       "    <tr>\n",
       "      <th>HomeVariation</th>\n",
       "      <td>0.00</td>\n",
       "      <td>0.17</td>\n",
       "      <td>0.04</td>\n",
       "    </tr>\n",
       "    <tr>\n",
       "      <th>HF</th>\n",
       "      <td>0.09</td>\n",
       "      <td>0.14</td>\n",
       "      <td>0.06</td>\n",
       "    </tr>\n",
       "    <tr>\n",
       "      <th>AwayTeam</th>\n",
       "      <td>0.05</td>\n",
       "      <td>0.11</td>\n",
       "      <td>0.01</td>\n",
       "    </tr>\n",
       "    <tr>\n",
       "      <th>Day</th>\n",
       "      <td>0.07</td>\n",
       "      <td>0.08</td>\n",
       "      <td>0.00</td>\n",
       "    </tr>\n",
       "    <tr>\n",
       "      <th>HomeTeam</th>\n",
       "      <td>0.04</td>\n",
       "      <td>0.06</td>\n",
       "      <td>0.00</td>\n",
       "    </tr>\n",
       "    <tr>\n",
       "      <th>Referee</th>\n",
       "      <td>0.08</td>\n",
       "      <td>0.03</td>\n",
       "      <td>0.00</td>\n",
       "    </tr>\n",
       "    <tr>\n",
       "      <th>ID</th>\n",
       "      <td>0.09</td>\n",
       "      <td>0.00</td>\n",
       "      <td>0.00</td>\n",
       "    </tr>\n",
       "  </tbody>\n",
       "</table>\n",
       "<p>41 rows × 3 columns</p>\n",
       "</div>"
      ],
      "text/plain": [
       "               Feature Importance   RFE  Stability\n",
       "HTAG                         0.15  1.00       0.06\n",
       "FTHG                         0.94  1.00       1.00\n",
       "HTR                          0.77  1.00       1.00\n",
       "HTHG                         0.24  1.00       0.00\n",
       "FTAG                         1.00  1.00       1.00\n",
       "HST                          0.18  0.97       0.08\n",
       "AwayPts                      0.04  0.94       0.01\n",
       "...                           ...   ...        ...\n",
       "HomeVariation                0.00  0.17       0.04\n",
       "HF                           0.09  0.14       0.06\n",
       "AwayTeam                     0.05  0.11       0.01\n",
       "Day                          0.07  0.08       0.00\n",
       "HomeTeam                     0.04  0.06       0.00\n",
       "Referee                      0.08  0.03       0.00\n",
       "ID                           0.09  0.00       0.00\n",
       "\n",
       "[41 rows x 3 columns]"
      ]
     },
     "metadata": {},
     "output_type": "display_data"
    },
    {
     "data": {
      "text/plain": [
       "None"
      ]
     },
     "metadata": {},
     "output_type": "display_data"
    },
    {
     "data": {
      "text/plain": [
       "<matplotlib.axes._subplots.AxesSubplot at 0x10f76f110>"
      ]
     },
     "execution_count": 13,
     "metadata": {},
     "output_type": "execute_result"
    },
    {
     "data": {
      "image/png": "[encoded data removed]",
      "text/plain": [
       "<matplotlib.figure.Figure at 0x10f76fbd0>"
      ]
     },
     "metadata": {},
     "output_type": "display_data"
    }
   ],
   "source": [
    "names = X.columns\n",
    "ranks = {}\n",
    " \n",
    "def rank_to_dict(ranks, names, order=1):\n",
    "    minmax = MinMaxScaler()\n",
    "    ranks = minmax.fit_transform(order*np.array([ranks]).T).T[0]\n",
    "    ranks = map(lambda x: round(x, 2), ranks)\n",
    "    return dict(zip(names, ranks ))\n",
    "\n",
    "# Find stability of feature\n",
    "def stability(ranks, name):\n",
    "    rlasso = RandomizedLasso(alpha = 0.0005)\n",
    "    rlasso.fit(X, y)\n",
    "    ranks[name] = rank_to_dict(np.abs(rlasso.scores_), names)\n",
    "\n",
    "# Find the RFE of feature and find top 5 features\n",
    "def rfe(ranks, name):\n",
    "    lr = LogisticRegression()\n",
    "    rfe = RFE(lr, n_features_to_select=5)\n",
    "    rfe.fit(X, y)\n",
    "    ranks[name] = rank_to_dict(map(float, rfe.ranking_), names, order=-1)\n",
    "\n",
    "# Find the importance of the feature\n",
    "def feat_imp(ranks, name):\n",
    "    forest = ExtraTreesClassifier()\n",
    "    forest.fit(X, y)\n",
    "    ranks[name] = rank_to_dict(map(float, forest.feature_importances_), names)\n",
    "\n",
    "stability(ranks, \"Stability\")\n",
    "rfe(ranks, \"RFE\")\n",
    "feat_imp(ranks, \"Feature Importance\")\n",
    "\n",
    "f, pval  = f_regression(X, y, center=True)\n",
    "ranks = pd.DataFrame(ranks)\n",
    "ranks = ranks.sort_values(['RFE'], ascending = False)\n",
    "\n",
    "display(ranks, pd.set_option('display.max_rows', 15))\n",
    "\n",
    "# Draw graph showing the Randomized Lasso \n",
    "ranks['RFE'].plot(kind='bar', figsize=(20,5))"
   ]
  },
  {
   "cell_type": "markdown",
   "metadata": {},
   "source": [
    "The table above is sorted by RFE, since this is the method that is most relevant to this type of task. RFE is a feature selection approach that works by recursively removing attributes and building a model on those attributes that remain. It uses the model accuracy to identify which attributes (and combination of attributes) contribute the most to predicting the target value. We can also see that both Feature Importance and Stability is supporting the RFE by having values in the same \"area\". By comparing this table to the other table using Pearson's _r_, it shows that it is not sufficient to use only Pearson's _r_ to get accurate ratings of the features.\n",
    "\n",
    "Since some features are more important than others, a threshold of .15 must be passed in order to be used for training."
   ]
  },
  {
   "cell_type": "code",
   "execution_count": 14,
   "metadata": {
    "collapsed": false
   },
   "outputs": [],
   "source": [
    "# Remove all irrelevant features\n",
    "new_X = X.copy()\n",
    "new_validation = validation.copy()\n",
    "new_test = data_test.copy()\n",
    "for rank in ranks.index:\n",
    "    if ranks['RFE'][rank] < 0.15:\n",
    "        new_X.drop(rank, axis=1, inplace=True)\n",
    "        new_validation.drop(rank, axis=1, inplace=True)\n",
    "        new_test.drop(rank, axis=1, inplace=True)"
   ]
  },
  {
   "cell_type": "markdown",
   "metadata": {},
   "source": [
    "# Methodology Overview\n",
    "\n",
    "1. Training phase (on X_train)\n",
    "2. Validation phase (on data_validate)\n",
    "3. Test phase (on X_test)\n",
    "4. Predict future games\n",
    "\n",
    "There are many different machine learning models, but only some are relevant for a task of classification. I have used  scikit learn's cheat-sheet[^1] as a guideline of which specific models to use. From background reading, it appeared that many papers that have tackled the problem of classification of historical data. Ahmed, N.K et. al (2007)[^2] used KNN, regression trees, SVC and a Gaussian process. Ulmer, B. and Fernandez, M. (2014)[^3] used Naive Bayes, Hidden Markov Model, Support Vector Machine (SVM), and Random Forest. From the readings I decided to use these four models:\n",
    "\n",
    "- Support Vector Machines\n",
    "- Gaussian Naive Bayes\n",
    "- KNN\n",
    "- Ada Boost\n",
    "\n",
    "The reason I use Ada Boost is that it fits a sequence of weak learners (i.e. desicion trees) repeatedly into a combination that makes it very powerful.\n",
    "\n",
    "Moreover, in order to get accuracte results from the model we need to train it on different types of splits of the dataset. This is called cross validation (CV), where I use k-fold CV to split into k smaller sets. Using cross validation, we are able to objectively compare the models in terms of their respective fractions of misclassifications. With the CV we can compute both CV accuracy score and the ROC area under curve (AUC) to get an idea of which model performs better. This is validated by:\n",
    "\n",
    "1. Comparing the results to the bookies\n",
    "2. Comparing the results to the actual true value\n",
    "\n",
    "By comparing the results, the best model will be picked to study more in depth. The final model can now being trained and further details about accuracy thrugh a confusion matrix is provided. Finally, we can train the model on the full dataset and predict the new outcoming games in the future.\n",
    "\n",
    "\n",
    "[^1]: <http://scikit-learn.org/stable/tutorial/machine_learning_map/>\n",
    "[^2]: <http://citeseerx.ist.psu.edu/viewdoc/download;jsessionid=0A60538A2F4443F0E7EC9E96B54E88A6?doi=10.1.1.114.8923&rep=rep1&type=pdf>\n",
    "[^3]: <http://cs229.stanford.edu/proj2014/Ben%20Ulmer,%20Matt%20Fernandez,%20Predicting%20Soccer%20Results%20in%20the%20English%20Premier%20League.pdf>\n",
    "\n",
    "\n",
    "\n",
    "### Model Training and Validation\n",
    "\n",
    "Before doing the cross validation tests on the four classifiers, we need a validation and test set to compare the values with. "
   ]
  },
  {
   "cell_type": "code",
   "execution_count": 15,
   "metadata": {
    "collapsed": false
   },
   "outputs": [],
   "source": [
    "data_validate = data_validate[[\"FTR\"]]\n",
    "data_validate = data_validate.dropna()\n",
    "data_validate = data_validate.apply(lambda x: d[x.name].transform(x))\n",
    "\n",
    "val_bin = label_binarize(data_validate, classes=[1,2,3])\n",
    "y_bin = label_binarize(y, classes=[1,2,3])"
   ]
  },
  {
   "cell_type": "markdown",
   "metadata": {},
   "source": [
    "We create a results table to show how well each model performed."
   ]
  },
  {
   "cell_type": "code",
   "execution_count": 16,
   "metadata": {
    "collapsed": true
   },
   "outputs": [],
   "source": [
    "results = pd.DataFrame(columns=['Model', 'Accuracy', 'AUC_y', 'AUC_bookies'])"
   ]
  },
  {
   "cell_type": "markdown",
   "metadata": {},
   "source": [
    "Below, the four models are being cross validated and a accuracy score and AUC is calculated against both the bookies and the true value."
   ]
  },
  {
   "cell_type": "code",
   "execution_count": 17,
   "metadata": {
    "collapsed": false,
    "scrolled": true
   },
   "outputs": [],
   "source": [
    "# Supper Vector Classifier\n",
    "svc = SVC(kernel='linear', C=1, probability=True)\n",
    "svc_proba = cross_val_predict(svc, new_validation, y, cv=KFold(3), method='predict_proba')\n",
    "svc_score = cross_val_score(svc, new_validation, y, cv=3)\n",
    "svc_auc_y = metrics.roc_auc_score(y_bin, svc_proba)\n",
    "svc_auc_val = metrics.roc_auc_score(val_bin, svc_proba)\n",
    "\n",
    "results = results.append(pd.DataFrame({\"Model\": \"SVC\", \"Accuracy\": svc_score.mean(),\"AUC_y\": svc_auc_y, \"AUC_bookies\": svc_auc_val}, index=[0]))"
   ]
  },
  {
   "cell_type": "code",
   "execution_count": 18,
   "metadata": {
    "collapsed": false
   },
   "outputs": [],
   "source": [
    "# Gaussian Naive Bayes Model\n",
    "gnb = GaussianNB()\n",
    "gnb_proba = cross_val_predict(gnb, new_validation, y, cv=KFold(n_splits = 3), method='predict_proba')\n",
    "gnb_score = cross_val_score(gnb, new_validation, y, cv=3)\n",
    "gnb_auc_y = metrics.roc_auc_score(y_bin, gnb_proba)\n",
    "gnb_auc_val = metrics.roc_auc_score(val_bin, gnb_proba)\n",
    "\n",
    "results = results.append(pd.DataFrame({\"Model\": \"GNB\", \"Accuracy\": gnb_score.mean(),\"AUC_y\": gnb_auc_y, \"AUC_bookies\": gnb_auc_val}, index=[0]))"
   ]
  },
  {
   "cell_type": "code",
   "execution_count": 19,
   "metadata": {
    "collapsed": false
   },
   "outputs": [],
   "source": [
    "# In the KNN classifier we train on different neighbour values to get the n with the highest performance rate\n",
    "knn_auc = 0\n",
    "best_n = 0\n",
    "for i in range(1, 30):\n",
    "    knn = KNeighborsClassifier(n_neighbors=i)\n",
    "    knn_proba = cross_val_predict(knn, new_validation, y, cv = KFold(n_splits = 3), method = 'predict_proba')\n",
    "    if(metrics.roc_auc_score(y_bin, knn_proba) > knn_auc):\n",
    "        knn_auc = metrics.roc_auc_score(y_bin, knn_proba)\n",
    "        best_n = i\n",
    "\n",
    "knn = KNeighborsClassifier(n_neighbors=best_n)\n",
    "knn_proba = cross_val_predict(knn, new_validation, y, cv = KFold(n_splits = 3), method = 'predict_proba')\n",
    "knn_score = cross_val_score(knn, new_validation, y, cv=3)\n",
    "knn_auc_y = metrics.roc_auc_score(y_bin, knn_proba)\n",
    "knn_auc_val = metrics.roc_auc_score(val_bin, knn_proba)\n",
    "\n",
    "results = results.append(pd.DataFrame({\"Model\": \"KNN\", \"Accuracy\": knn_score.mean(),\"AUC_y\": knn_auc_y, \"AUC_bookies\": knn_auc_val}, index=[0]))"
   ]
  },
  {
   "cell_type": "code",
   "execution_count": 20,
   "metadata": {
    "collapsed": false
   },
   "outputs": [],
   "source": [
    "# Ada Boost Classifier\n",
    "ada = AdaBoostClassifier(n_estimators=100)\n",
    "ada_proba = cross_val_predict(ada, new_validation, y, cv=KFold(n_splits = 3), method='predict_proba')\n",
    "ada_score = cross_val_score(ada, new_validation, y, cv=3)\n",
    "ada_auc_y = metrics.roc_auc_score(y_bin, ada_proba)\n",
    "ada_auc_val = metrics.roc_auc_score(val_bin, ada_proba)\n",
    "\n",
    "results = results.append(pd.DataFrame({\"Model\": \"Ada Boost\", \"Accuracy\": ada_score.mean(),\"AUC_y\": ada_auc_y, \"AUC_bookies\": ada_auc_val}, index=[0]))"
   ]
  },
  {
   "cell_type": "markdown",
   "metadata": {},
   "source": [
    "After evaluating the AUC of each classifier through cross validation, we can get an idea of which model performs better. This is shown in a bar chart."
   ]
  },
  {
   "cell_type": "code",
   "execution_count": 21,
   "metadata": {
    "collapsed": false
   },
   "outputs": [
    {
     "name": "stdout",
     "output_type": "stream",
     "text": [
      "   AUC_bookies     AUC_y  Accuracy      Model\n",
      "0     0.555768  0.606782  0.494172        SVC\n",
      "0     0.572814  0.648057  0.516836        GNB\n",
      "0     0.578956  0.636080  0.507277        KNN\n",
      "0     0.567484  0.613627  0.424155  Ada Boost\n"
     ]
    },
    {
     "data": {
      "image/png": "[encoded data removed]",
      "text/plain": [
       "<matplotlib.figure.Figure at 0x10f299c10>"
      ]
     },
     "metadata": {},
     "output_type": "display_data"
    }
   ],
   "source": [
    "# results.set_index('Model', inplace=True)\n",
    "print results\n",
    "ax = results.ix[0].plot(x=\"Model\", kind='bar', figsize=(10,5)); plt.axhline(1, color='k')\n",
    "\n",
    "for p in ax.patches:\n",
    "    ax.annotate(\"%.2f\" % p.get_height(), (p.get_x() + p.get_width() / 2., p.get_height()), ha='center', va='center', xytext=(0, 10), textcoords='offset points')"
   ]
  },
  {
   "cell_type": "markdown",
   "metadata": {},
   "source": [
    "We can see that the Gaussian Naive Bayes (GNB) and KNN performed best out of the four classifiers, but that overall, GNB performed best. Hence, we will stick with the GNB to train the data on.\n",
    "\n",
    "## Results\n",
    "We will now use the normal way of splitting the training data to evaluate the performance of the GNB classifier. We will fit it with the training set `X_train` and `y_train` followed by presenting the accuracy score"
   ]
  },
  {
   "cell_type": "code",
   "execution_count": 22,
   "metadata": {
    "collapsed": false
   },
   "outputs": [
    {
     "name": "stdout",
     "output_type": "stream",
     "text": [
      "Model accuracy: 0.687\n",
      "AUC score: 0.848\n",
      "\n",
      "             precision    recall  f1-score   support\n",
      "\n",
      "          1       0.65      0.76      0.70       230\n",
      "          2       0.50      0.45      0.47       212\n",
      "          3       0.82      0.78      0.80       353\n",
      "\n",
      "avg / total       0.69      0.69      0.68       795\n",
      "\n"
     ]
    }
   ],
   "source": [
    "X_train, X_test, y_train, y_test = train_test_split(new_X, y, test_size=0.4, random_state=0)\n",
    "\n",
    "label_bin = label_binarize(y_test, classes=[1,2,3])\n",
    "gnb = GaussianNB()\n",
    "gnb.fit(X_train, y_train)\n",
    "\n",
    "gnb_pred = gnb.predict(X_test)\n",
    "gnb_acc = metrics.accuracy_score(y_test, gnb_pred)\n",
    "print \"Model accuracy: %.3f\" % gnb_acc\n",
    "\n",
    "gnb_prob = gnb.predict_proba(X_test)\n",
    "gnb_auc = metrics.roc_auc_score(label_bin, gnb_prob)\n",
    "print \"AUC score: %.3f\\n\" %gnb_auc\n",
    "\n",
    "print metrics.classification_report(y_test, gnb_pred)"
   ]
  },
  {
   "cell_type": "markdown",
   "metadata": {},
   "source": [
    "By using a normal split of the training set rather than cross validation, we get an expected higher accuracy score. We see the classification report and can see that the model is best at classifying class 3 (HomeGoal) and worse at classifying class 2 (Draw).\n",
    "\n",
    "We can see better the false and true predictions in the confusion matrix below."
   ]
  },
  {
   "cell_type": "code",
   "execution_count": 23,
   "metadata": {
    "collapsed": false
   },
   "outputs": [
    {
     "name": "stdout",
     "output_type": "stream",
     "text": [
      "Normalized confusion matrix\n",
      "[[ 0.76  0.22  0.02]\n",
      " [ 0.28  0.45  0.27]\n",
      " [ 0.09  0.12  0.78]]\n"
     ]
    },
    {
     "data": {
      "image/png": "[encoded data removed]",
      "text/plain": [
       "<matplotlib.figure.Figure at 0x10f2ad590>"
      ]
     },
     "metadata": {},
     "output_type": "display_data"
    }
   ],
   "source": [
    "# Confusion Matrix from sklearn's demo\n",
    "def plot_confusion_matrix(cm, classes,\n",
    "                          normalize=False,\n",
    "                          title='Confusion matrix',\n",
    "                          cmap=plt.cm.Blues):\n",
    "    \"\"\"\n",
    "    This function prints and plots the confusion matrix.\n",
    "    Normalization can be applied by setting `normalize=True`.\n",
    "    \"\"\"\n",
    "    plt.imshow(cm, interpolation='nearest', cmap=cmap)\n",
    "    plt.title(title)\n",
    "    plt.colorbar()\n",
    "    tick_marks = np.arange(len(classes))\n",
    "    plt.xticks(tick_marks, classes, rotation=45)\n",
    "    plt.yticks(tick_marks, classes)\n",
    "\n",
    "    if normalize:\n",
    "        cm = cm.astype('float') / cm.sum(axis=1)[:, np.newaxis]\n",
    "        cm = np.around(cm, decimals = 2)\n",
    "        print(\"Normalized confusion matrix\")\n",
    "    else:\n",
    "        print('Confusion matrix, without normalization')\n",
    "\n",
    "    print(cm)\n",
    "\n",
    "    thresh = cm.max() / 2.\n",
    "    for i, j in itertools.product(range(cm.shape[0]), range(cm.shape[1])):\n",
    "        plt.text(j, i, cm[i, j],\n",
    "                 horizontalalignment=\"center\",\n",
    "                 color=\"white\" if cm[i, j] > thresh else \"black\")\n",
    "\n",
    "    plt.tight_layout()\n",
    "    plt.ylabel('True label')\n",
    "    plt.xlabel('Predicted label')\n",
    "\n",
    "cnf_matrix =  metrics.confusion_matrix(y_test, gnb_pred)\n",
    "np.set_printoptions(precision=2)\n",
    "plt.figure(figsize=(7,7))\n",
    "plot_confusion_matrix(cnf_matrix, classes=['AwayWin','Draw', 'HomeWin'], normalize=True, title='Normalized Confusion matrix')\n",
    "plt.show()"
   ]
  },
  {
   "cell_type": "markdown",
   "metadata": {},
   "source": [
    "We can see from the confusion matrix that the classifier is better in predicting either a HomeWin or AwayWin but just scores a correct draw 45% of the time. Hence, we can therefore be more sure about the prediction when it classifies it as either Home or Away win. \n",
    "\n",
    "## Final Prediction on Test Set\n",
    "To be able to predict the future games, we train on the full dataset to get as accurate results as possible. We then append the results to a table, which is shown below."
   ]
  },
  {
   "cell_type": "code",
   "execution_count": 24,
   "metadata": {
    "collapsed": false
   },
   "outputs": [
    {
     "data": {
      "text/html": [
       "<div>\n",
       "<table border=\"1\" class=\"dataframe\">\n",
       "  <thead>\n",
       "    <tr style=\"text-align: right;\">\n",
       "      <th></th>\n",
       "      <th>Date</th>\n",
       "      <th>HomeTeam</th>\n",
       "      <th>AwayTeam</th>\n",
       "      <th>FTR</th>\n",
       "    </tr>\n",
       "  </thead>\n",
       "  <tbody>\n",
       "    <tr>\n",
       "      <th>0</th>\n",
       "      <td>21/01/2017</td>\n",
       "      <td>Man City</td>\n",
       "      <td>Tottenham</td>\n",
       "      <td>D</td>\n",
       "    </tr>\n",
       "    <tr>\n",
       "      <th>1</th>\n",
       "      <td>21/01/2017</td>\n",
       "      <td>Liverpool</td>\n",
       "      <td>Swansea</td>\n",
       "      <td>H</td>\n",
       "    </tr>\n",
       "    <tr>\n",
       "      <th>2</th>\n",
       "      <td>21/01/2017</td>\n",
       "      <td>Middlesbrough</td>\n",
       "      <td>West Ham</td>\n",
       "      <td>A</td>\n",
       "    </tr>\n",
       "    <tr>\n",
       "      <th>3</th>\n",
       "      <td>21/01/2017</td>\n",
       "      <td>West Brom</td>\n",
       "      <td>Sunderland</td>\n",
       "      <td>D</td>\n",
       "    </tr>\n",
       "    <tr>\n",
       "      <th>4</th>\n",
       "      <td>21/01/2017</td>\n",
       "      <td>Crystal Palace</td>\n",
       "      <td>Everton</td>\n",
       "      <td>A</td>\n",
       "    </tr>\n",
       "    <tr>\n",
       "      <th>5</th>\n",
       "      <td>21/01/2017</td>\n",
       "      <td>Stoke</td>\n",
       "      <td>Man United</td>\n",
       "      <td>A</td>\n",
       "    </tr>\n",
       "    <tr>\n",
       "      <th>6</th>\n",
       "      <td>21/01/2017</td>\n",
       "      <td>Bournemouth</td>\n",
       "      <td>Watford</td>\n",
       "      <td>D</td>\n",
       "    </tr>\n",
       "    <tr>\n",
       "      <th>7</th>\n",
       "      <td>22/01/2017</td>\n",
       "      <td>Arsenal</td>\n",
       "      <td>Burnley</td>\n",
       "      <td>H</td>\n",
       "    </tr>\n",
       "    <tr>\n",
       "      <th>8</th>\n",
       "      <td>22/01/2017</td>\n",
       "      <td>Chelsea</td>\n",
       "      <td>Hull</td>\n",
       "      <td>H</td>\n",
       "    </tr>\n",
       "    <tr>\n",
       "      <th>9</th>\n",
       "      <td>22/01/2017</td>\n",
       "      <td>Southampton</td>\n",
       "      <td>Leicester</td>\n",
       "      <td>A</td>\n",
       "    </tr>\n",
       "  </tbody>\n",
       "</table>\n",
       "</div>"
      ],
      "text/plain": [
       "         Date        HomeTeam    AwayTeam FTR\n",
       "0  21/01/2017        Man City   Tottenham   D\n",
       "1  21/01/2017       Liverpool     Swansea   H\n",
       "2  21/01/2017   Middlesbrough    West Ham   A\n",
       "3  21/01/2017       West Brom  Sunderland   D\n",
       "4  21/01/2017  Crystal Palace     Everton   A\n",
       "5  21/01/2017           Stoke  Man United   A\n",
       "6  21/01/2017     Bournemouth     Watford   D\n",
       "7  22/01/2017         Arsenal     Burnley   H\n",
       "8  22/01/2017         Chelsea        Hull   H\n",
       "9  22/01/2017     Southampton   Leicester   A"
      ]
     },
     "metadata": {},
     "output_type": "display_data"
    }
   ],
   "source": [
    "gnb.fit(new_X, y)\n",
    "gnb_pred = gnb.predict(new_test)\n",
    "dtest = data_test.copy()\n",
    "dtest = dtest.reset_index()\n",
    "dtest['FTR'] = gnb_pred\n",
    "dtest = dtest[['HomeTeam', 'AwayTeam', 'FTR']].apply(lambda x: d[x.name].inverse_transform(x))\n",
    "date_extraction = pd.read_csv('data/epl-test.csv')\n",
    "dtest['Date'] = date_extraction['Date']\n",
    "display(dtest[['Date', 'HomeTeam', 'AwayTeam', 'FTR']])"
   ]
  },
  {
   "cell_type": "markdown",
   "metadata": {
    "collapsed": true
   },
   "source": [
    "Given all the prior probabilities, the table above are the predicted results of the future 10 games. "
   ]
  }
 ],
 "metadata": {
  "kernelspec": {
   "display_name": "Python 2",
   "language": "python",
   "name": "python2"
  },
  "language_info": {
   "codemirror_mode": {
    "name": "ipython",
    "version": 2
   },
   "file_extension": ".py",
   "mimetype": "text/x-python",
   "name": "python",
   "nbconvert_exporter": "python",
   "pygments_lexer": "ipython2",
   "version": "2.7.10"
  }
 },
 "nbformat": 4,
 "nbformat_minor": 0
}
